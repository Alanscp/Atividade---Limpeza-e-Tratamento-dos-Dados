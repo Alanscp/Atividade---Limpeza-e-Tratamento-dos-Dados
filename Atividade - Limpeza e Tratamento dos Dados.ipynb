{
 "cells": [
  {
   "cell_type": "code",
   "execution_count": 3,
   "id": "6ea92ad8-70e2-4203-9c83-23d8fe4b0498",
   "metadata": {},
   "outputs": [],
   "source": [
    "import pandas as pd\n",
    "import seaborn as srn\n",
    "import statistics as sts"
   ]
  },
  {
   "cell_type": "code",
   "execution_count": 6,
   "id": "f5f56978-b35b-4591-8634-cd5a4176b095",
   "metadata": {},
   "outputs": [],
   "source": [
    "df = pd.read_csv('jogadores.csv')"
   ]
  },
  {
   "cell_type": "code",
   "execution_count": 10,
   "id": "d69d60cb-6ca7-4f78-965a-9d7a615b40da",
   "metadata": {},
   "outputs": [
    {
     "data": {
      "text/plain": [
       "(1000, 6)"
      ]
     },
     "execution_count": 10,
     "metadata": {},
     "output_type": "execute_result"
    }
   ],
   "source": [
    "df.shape"
   ]
  },
  {
   "cell_type": "code",
   "execution_count": 12,
   "id": "3508416f-8aa4-4b46-84bc-ff916516cacd",
   "metadata": {},
   "outputs": [
    {
     "data": {
      "text/html": [
       "<div>\n",
       "<style scoped>\n",
       "    .dataframe tbody tr th:only-of-type {\n",
       "        vertical-align: middle;\n",
       "    }\n",
       "\n",
       "    .dataframe tbody tr th {\n",
       "        vertical-align: top;\n",
       "    }\n",
       "\n",
       "    .dataframe thead th {\n",
       "        text-align: right;\n",
       "    }\n",
       "</style>\n",
       "<table border=\"1\" class=\"dataframe\">\n",
       "  <thead>\n",
       "    <tr style=\"text-align: right;\">\n",
       "      <th></th>\n",
       "      <th>id</th>\n",
       "      <th>score</th>\n",
       "      <th>nivel</th>\n",
       "      <th>categoria</th>\n",
       "      <th>idade</th>\n",
       "      <th>pais</th>\n",
       "    </tr>\n",
       "  </thead>\n",
       "  <tbody>\n",
       "    <tr>\n",
       "      <th>0</th>\n",
       "      <td>1</td>\n",
       "      <td>321057.0</td>\n",
       "      <td>321.0</td>\n",
       "      <td>elfo</td>\n",
       "      <td>43.0</td>\n",
       "      <td>United States</td>\n",
       "    </tr>\n",
       "    <tr>\n",
       "      <th>1</th>\n",
       "      <td>2</td>\n",
       "      <td>495527.0</td>\n",
       "      <td>466.0</td>\n",
       "      <td>mago</td>\n",
       "      <td>16.0</td>\n",
       "      <td>Canada</td>\n",
       "    </tr>\n",
       "    <tr>\n",
       "      <th>2</th>\n",
       "      <td>3</td>\n",
       "      <td>700848.0</td>\n",
       "      <td>255.0</td>\n",
       "      <td>NaN</td>\n",
       "      <td>54.0</td>\n",
       "      <td>United States</td>\n",
       "    </tr>\n",
       "    <tr>\n",
       "      <th>3</th>\n",
       "      <td>4</td>\n",
       "      <td>985558.0</td>\n",
       "      <td>679.0</td>\n",
       "      <td>mago</td>\n",
       "      <td>87.0</td>\n",
       "      <td>Brazil</td>\n",
       "    </tr>\n",
       "    <tr>\n",
       "      <th>4</th>\n",
       "      <td>5</td>\n",
       "      <td>517633.0</td>\n",
       "      <td>752.0</td>\n",
       "      <td>guerreiro</td>\n",
       "      <td>69.0</td>\n",
       "      <td>Japan</td>\n",
       "    </tr>\n",
       "  </tbody>\n",
       "</table>\n",
       "</div>"
      ],
      "text/plain": [
       "   id     score  nivel  categoria  idade           pais\n",
       "0   1  321057.0  321.0       elfo   43.0  United States\n",
       "1   2  495527.0  466.0       mago   16.0         Canada\n",
       "2   3  700848.0  255.0        NaN   54.0  United States\n",
       "3   4  985558.0  679.0       mago   87.0         Brazil\n",
       "4   5  517633.0  752.0  guerreiro   69.0          Japan"
      ]
     },
     "execution_count": 12,
     "metadata": {},
     "output_type": "execute_result"
    }
   ],
   "source": [
    "df.head()"
   ]
  },
  {
   "cell_type": "code",
   "execution_count": 15,
   "id": "27110687-267c-44c7-917e-51bd4531e834",
   "metadata": {},
   "outputs": [
    {
     "data": {
      "text/html": [
       "<div>\n",
       "<style scoped>\n",
       "    .dataframe tbody tr th:only-of-type {\n",
       "        vertical-align: middle;\n",
       "    }\n",
       "\n",
       "    .dataframe tbody tr th {\n",
       "        vertical-align: top;\n",
       "    }\n",
       "\n",
       "    .dataframe thead th {\n",
       "        text-align: right;\n",
       "    }\n",
       "</style>\n",
       "<table border=\"1\" class=\"dataframe\">\n",
       "  <thead>\n",
       "    <tr style=\"text-align: right;\">\n",
       "      <th></th>\n",
       "      <th>id</th>\n",
       "      <th>score</th>\n",
       "      <th>nivel</th>\n",
       "      <th>categoria</th>\n",
       "      <th>idade</th>\n",
       "      <th>pais</th>\n",
       "    </tr>\n",
       "  </thead>\n",
       "  <tbody>\n",
       "    <tr>\n",
       "      <th>995</th>\n",
       "      <td>996</td>\n",
       "      <td>146132.0</td>\n",
       "      <td>417.0</td>\n",
       "      <td>elfo</td>\n",
       "      <td>78.0</td>\n",
       "      <td>Japan</td>\n",
       "    </tr>\n",
       "    <tr>\n",
       "      <th>996</th>\n",
       "      <td>997</td>\n",
       "      <td>845482.0</td>\n",
       "      <td>588.0</td>\n",
       "      <td>orc</td>\n",
       "      <td>69.0</td>\n",
       "      <td>Portugal</td>\n",
       "    </tr>\n",
       "    <tr>\n",
       "      <th>997</th>\n",
       "      <td>998</td>\n",
       "      <td>230131.0</td>\n",
       "      <td>660.0</td>\n",
       "      <td>mago</td>\n",
       "      <td>57.0</td>\n",
       "      <td>Japan</td>\n",
       "    </tr>\n",
       "    <tr>\n",
       "      <th>998</th>\n",
       "      <td>999</td>\n",
       "      <td>635044.0</td>\n",
       "      <td>731.0</td>\n",
       "      <td>orc</td>\n",
       "      <td>17.0</td>\n",
       "      <td>Brazil</td>\n",
       "    </tr>\n",
       "    <tr>\n",
       "      <th>999</th>\n",
       "      <td>1000</td>\n",
       "      <td>317887.0</td>\n",
       "      <td>477.0</td>\n",
       "      <td>orc</td>\n",
       "      <td>64.0</td>\n",
       "      <td>Brazil</td>\n",
       "    </tr>\n",
       "  </tbody>\n",
       "</table>\n",
       "</div>"
      ],
      "text/plain": [
       "       id     score  nivel categoria  idade      pais\n",
       "995   996  146132.0  417.0      elfo   78.0     Japan\n",
       "996   997  845482.0  588.0       orc   69.0  Portugal\n",
       "997   998  230131.0  660.0      mago   57.0     Japan\n",
       "998   999  635044.0  731.0       orc   17.0    Brazil\n",
       "999  1000  317887.0  477.0       orc   64.0    Brazil"
      ]
     },
     "execution_count": 15,
     "metadata": {},
     "output_type": "execute_result"
    }
   ],
   "source": [
    "df.tail()"
   ]
  },
  {
   "cell_type": "code",
   "execution_count": 18,
   "id": "cc361383-d446-41a6-b68a-0a6523c488a6",
   "metadata": {},
   "outputs": [
    {
     "data": {
      "text/plain": [
       "score\n",
       "-464.0       1\n",
       " 884.0       1\n",
       " 2283.0      1\n",
       " 3000.0      1\n",
       " 4921.0      1\n",
       "            ..\n",
       " 994895.0    1\n",
       " 996542.0    1\n",
       " 996957.0    1\n",
       " 997104.0    1\n",
       " 998871.0    1\n",
       "Length: 997, dtype: int64"
      ]
     },
     "execution_count": 18,
     "metadata": {},
     "output_type": "execute_result"
    }
   ],
   "source": [
    "df_score = df.groupby(['score']).size()\n",
    "df_score"
   ]
  },
  {
   "cell_type": "code",
   "execution_count": 21,
   "id": "238ac5f2-77cd-4e56-b972-a785f9a2d185",
   "metadata": {},
   "outputs": [
    {
     "data": {
      "text/plain": [
       "<Axes: xlabel='score'>"
      ]
     },
     "execution_count": 21,
     "metadata": {},
     "output_type": "execute_result"
    },
    {
     "data": {
      "image/png": "[encoded data removed]",
      "text/plain": [
       "<Figure size 640x480 with 1 Axes>"
      ]
     },
     "metadata": {},
     "output_type": "display_data"
    }
   ],
   "source": [
    "df_score.plot.bar(color='blue')"
   ]
  },
  {
   "cell_type": "code",
   "execution_count": 24,
   "id": "54f67294-88b0-473c-a704-08045e585f0d",
   "metadata": {},
   "outputs": [
    {
     "data": {
      "text/plain": [
       "nivel\n",
       "-516.0     1\n",
       "-103.0     1\n",
       " 1.0       1\n",
       " 2.0       1\n",
       " 3.0       3\n",
       "          ..\n",
       " 996.0     1\n",
       " 997.0     2\n",
       " 998.0     1\n",
       " 999.0     2\n",
       " 1000.0    1\n",
       "Length: 619, dtype: int64"
      ]
     },
     "execution_count": 24,
     "metadata": {},
     "output_type": "execute_result"
    }
   ],
   "source": [
    "df_nivel = df.groupby(['nivel']).size()\n",
    "df_nivel"
   ]
  },
  {
   "cell_type": "code",
   "execution_count": 27,
   "id": "dbdc33cc-8ae8-4bf0-9cd9-33c96f402b5c",
   "metadata": {},
   "outputs": [
    {
     "data": {
      "text/plain": [
       "<Axes: xlabel='nivel'>"
      ]
     },
     "execution_count": 27,
     "metadata": {},
     "output_type": "execute_result"
    },
    {
     "data": {
      "image/png": "[encoded data removed]",
      "text/plain": [
       "<Figure size 640x480 with 1 Axes>"
      ]
     },
     "metadata": {},
     "output_type": "display_data"
    }
   ],
   "source": [
    "df_nivel.plot.bar(color='blue')"
   ]
  },
  {
   "cell_type": "code",
   "execution_count": 30,
   "id": "5baaa849-d268-48e5-a3a7-dd1b28e7886c",
   "metadata": {},
   "outputs": [
    {
     "data": {
      "text/plain": [
       "categoria\n",
       "elfo         238\n",
       "guerreiro    242\n",
       "mago         276\n",
       "orc          241\n",
       "dtype: int64"
      ]
     },
     "execution_count": 30,
     "metadata": {},
     "output_type": "execute_result"
    }
   ],
   "source": [
    "df_categoria = df.groupby(['categoria']).size()\n",
    "df_categoria"
   ]
  },
  {
   "cell_type": "code",
   "execution_count": 35,
   "id": "f4b5a0da-3f19-43a4-9cd3-3922eb0249e6",
   "metadata": {},
   "outputs": [
    {
     "data": {
      "text/plain": [
       "<Axes: xlabel='categoria'>"
      ]
     },
     "execution_count": 35,
     "metadata": {},
     "output_type": "execute_result"
    },
    {
     "data": {
      "image/png": "[encoded data removed]",
      "text/plain": [
       "<Figure size 640x480 with 1 Axes>"
      ]
     },
     "metadata": {},
     "output_type": "display_data"
    }
   ],
   "source": [
    "df_categoria.plot.bar(color='blue')"
   ]
  },
  {
   "cell_type": "code",
   "execution_count": 38,
   "id": "697be626-77d1-486b-b4ca-0e74ed3beeb6",
   "metadata": {},
   "outputs": [
    {
     "data": {
      "text/plain": [
       "idade\n",
       "12.0      4\n",
       "13.0      8\n",
       "14.0      9\n",
       "15.0     10\n",
       "16.0      9\n",
       "         ..\n",
       "98.0     12\n",
       "99.0     13\n",
       "100.0     8\n",
       "125.0     1\n",
       "133.0     1\n",
       "Length: 91, dtype: int64"
      ]
     },
     "execution_count": 38,
     "metadata": {},
     "output_type": "execute_result"
    }
   ],
   "source": [
    "df_idade = df.groupby(['idade']).size()\n",
    "df_idade"
   ]
  },
  {
   "cell_type": "code",
   "execution_count": 41,
   "id": "137fabc2-3f98-4642-9662-ea407e4548d2",
   "metadata": {},
   "outputs": [
    {
     "data": {
      "text/plain": [
       "<Axes: xlabel='idade'>"
      ]
     },
     "execution_count": 41,
     "metadata": {},
     "output_type": "execute_result"
    },
    {
     "data": {
      "image/png": "[encoded data removed]",
      "text/plain": [
       "<Figure size 640x480 with 1 Axes>"
      ]
     },
     "metadata": {},
     "output_type": "display_data"
    }
   ],
   "source": [
    "df_idade.plot.bar(color='blue')"
   ]
  },
  {
   "cell_type": "code",
   "execution_count": 44,
   "id": "198b273f-584b-4864-a094-a41a110c733e",
   "metadata": {},
   "outputs": [
    {
     "data": {
      "text/plain": [
       "pais\n",
       "%apan               1\n",
       "Australia           7\n",
       "Brazil            279\n",
       "C#nada              1\n",
       "Canada             93\n",
       "Italy              10\n",
       "Japan             130\n",
       "Mexico             74\n",
       "Portuga&            1\n",
       "Portugal          222\n",
       "Spain              14\n",
       "United Kingdom     16\n",
       "United States     150\n",
       "dtype: int64"
      ]
     },
     "execution_count": 44,
     "metadata": {},
     "output_type": "execute_result"
    }
   ],
   "source": [
    "df_pais = df.groupby(['pais']).size()\n",
    "df_pais"
   ]
  },
  {
   "cell_type": "code",
   "execution_count": 47,
   "id": "884b2e3e-4ac2-416d-9473-02a850582df5",
   "metadata": {},
   "outputs": [
    {
     "data": {
      "text/plain": [
       "<Axes: xlabel='pais'>"
      ]
     },
     "execution_count": 47,
     "metadata": {},
     "output_type": "execute_result"
    },
    {
     "data": {
      "image/png": "[encoded data removed]",
      "text/plain": [
       "<Figure size 640x480 with 1 Axes>"
      ]
     },
     "metadata": {},
     "output_type": "display_data"
    }
   ],
   "source": [
    "df_pais.plot.bar(color='blue')"
   ]
  },
  {
   "cell_type": "code",
   "execution_count": 50,
   "id": "2323e817-9eb9-44b6-a646-7f9f1b6c53a8",
   "metadata": {},
   "outputs": [
    {
     "data": {
      "text/html": [
       "<div>\n",
       "<style scoped>\n",
       "    .dataframe tbody tr th:only-of-type {\n",
       "        vertical-align: middle;\n",
       "    }\n",
       "\n",
       "    .dataframe tbody tr th {\n",
       "        vertical-align: top;\n",
       "    }\n",
       "\n",
       "    .dataframe thead th {\n",
       "        text-align: right;\n",
       "    }\n",
       "</style>\n",
       "<table border=\"1\" class=\"dataframe\">\n",
       "  <thead>\n",
       "    <tr style=\"text-align: right;\">\n",
       "      <th></th>\n",
       "      <th>id</th>\n",
       "      <th>score</th>\n",
       "      <th>nivel</th>\n",
       "      <th>idade</th>\n",
       "    </tr>\n",
       "  </thead>\n",
       "  <tbody>\n",
       "    <tr>\n",
       "      <th>count</th>\n",
       "      <td>1000.000000</td>\n",
       "      <td>998.000000</td>\n",
       "      <td>998.000000</td>\n",
       "      <td>997.000000</td>\n",
       "    </tr>\n",
       "    <tr>\n",
       "      <th>mean</th>\n",
       "      <td>500.500000</td>\n",
       "      <td>496350.856713</td>\n",
       "      <td>495.098196</td>\n",
       "      <td>56.822467</td>\n",
       "    </tr>\n",
       "    <tr>\n",
       "      <th>std</th>\n",
       "      <td>288.819436</td>\n",
       "      <td>283458.860428</td>\n",
       "      <td>288.395089</td>\n",
       "      <td>25.249907</td>\n",
       "    </tr>\n",
       "    <tr>\n",
       "      <th>min</th>\n",
       "      <td>1.000000</td>\n",
       "      <td>-464.000000</td>\n",
       "      <td>-516.000000</td>\n",
       "      <td>12.000000</td>\n",
       "    </tr>\n",
       "    <tr>\n",
       "      <th>25%</th>\n",
       "      <td>250.750000</td>\n",
       "      <td>259577.250000</td>\n",
       "      <td>247.750000</td>\n",
       "      <td>35.000000</td>\n",
       "    </tr>\n",
       "    <tr>\n",
       "      <th>50%</th>\n",
       "      <td>500.500000</td>\n",
       "      <td>497023.500000</td>\n",
       "      <td>493.500000</td>\n",
       "      <td>59.000000</td>\n",
       "    </tr>\n",
       "    <tr>\n",
       "      <th>75%</th>\n",
       "      <td>750.250000</td>\n",
       "      <td>745172.500000</td>\n",
       "      <td>742.000000</td>\n",
       "      <td>78.000000</td>\n",
       "    </tr>\n",
       "    <tr>\n",
       "      <th>max</th>\n",
       "      <td>1000.000000</td>\n",
       "      <td>998871.000000</td>\n",
       "      <td>1000.000000</td>\n",
       "      <td>133.000000</td>\n",
       "    </tr>\n",
       "  </tbody>\n",
       "</table>\n",
       "</div>"
      ],
      "text/plain": [
       "                id          score        nivel       idade\n",
       "count  1000.000000     998.000000   998.000000  997.000000\n",
       "mean    500.500000  496350.856713   495.098196   56.822467\n",
       "std     288.819436  283458.860428   288.395089   25.249907\n",
       "min       1.000000    -464.000000  -516.000000   12.000000\n",
       "25%     250.750000  259577.250000   247.750000   35.000000\n",
       "50%     500.500000  497023.500000   493.500000   59.000000\n",
       "75%     750.250000  745172.500000   742.000000   78.000000\n",
       "max    1000.000000  998871.000000  1000.000000  133.000000"
      ]
     },
     "execution_count": 50,
     "metadata": {},
     "output_type": "execute_result"
    }
   ],
   "source": [
    "df.describe()"
   ]
  },
  {
   "cell_type": "code",
   "execution_count": 53,
   "id": "4f95decb-b073-4c20-9b57-5305c312a197",
   "metadata": {},
   "outputs": [
    {
     "data": {
      "text/plain": [
       "count       998.000000\n",
       "mean     496350.856713\n",
       "std      283458.860428\n",
       "min        -464.000000\n",
       "25%      259577.250000\n",
       "50%      497023.500000\n",
       "75%      745172.500000\n",
       "max      998871.000000\n",
       "Name: score, dtype: float64"
      ]
     },
     "execution_count": 53,
     "metadata": {},
     "output_type": "execute_result"
    }
   ],
   "source": [
    "df['score'].describe()"
   ]
  },
  {
   "cell_type": "code",
   "execution_count": 56,
   "id": "2caa61dc-a87c-4ac7-aba7-29de506f1005",
   "metadata": {},
   "outputs": [
    {
     "data": {
      "text/plain": [
       "Text(0.5, 1.0, 'Score')"
      ]
     },
     "execution_count": 56,
     "metadata": {},
     "output_type": "execute_result"
    },
    {
     "data": {
      "image/png": "[encoded data removed]",
      "text/plain": [
       "<Figure size 640x480 with 1 Axes>"
      ]
     },
     "metadata": {},
     "output_type": "display_data"
    }
   ],
   "source": [
    "srn.boxplot(df['score']).set_title('Score')"
   ]
  },
  {
   "cell_type": "code",
   "execution_count": 59,
   "id": "a38df5c5-1d56-4c09-bc3d-aa6b598c7095",
   "metadata": {},
   "outputs": [
    {
     "data": {
      "text/plain": [
       "Text(0.5, 1.0, 'Score')"
      ]
     },
     "execution_count": 59,
     "metadata": {},
     "output_type": "execute_result"
    },
    {
     "data": {
      "image/png": "[encoded data removed]",
      "text/plain": [
       "<Figure size 640x480 with 1 Axes>"
      ]
     },
     "metadata": {},
     "output_type": "display_data"
    }
   ],
   "source": [
    "srn.histplot(df['score']).set_title('Score')"
   ]
  },
  {
   "cell_type": "code",
   "execution_count": 62,
   "id": "db356e75-01d8-47e5-adb2-73f47f733f02",
   "metadata": {},
   "outputs": [
    {
     "data": {
      "text/plain": [
       "count     998.000000\n",
       "mean      495.098196\n",
       "std       288.395089\n",
       "min      -516.000000\n",
       "25%       247.750000\n",
       "50%       493.500000\n",
       "75%       742.000000\n",
       "max      1000.000000\n",
       "Name: nivel, dtype: float64"
      ]
     },
     "execution_count": 62,
     "metadata": {},
     "output_type": "execute_result"
    }
   ],
   "source": [
    "df['nivel'].describe()"
   ]
  },
  {
   "cell_type": "code",
   "execution_count": 65,
   "id": "d367a0ac-b567-41c0-b552-7450d1137581",
   "metadata": {},
   "outputs": [
    {
     "data": {
      "text/plain": [
       "Text(0.5, 1.0, 'Nivel')"
      ]
     },
     "execution_count": 65,
     "metadata": {},
     "output_type": "execute_result"
    },
    {
     "data": {
      "image/png": "[encoded data removed]",
      "text/plain": [
       "<Figure size 640x480 with 1 Axes>"
      ]
     },
     "metadata": {},
     "output_type": "display_data"
    }
   ],
   "source": [
    "srn.boxplot(df['nivel']).set_title('Nivel')"
   ]
  },
  {
   "cell_type": "code",
   "execution_count": 69,
   "id": "8feff191-378d-4bdd-9c00-e22ba91be989",
   "metadata": {},
   "outputs": [
    {
     "data": {
      "text/plain": [
       "Text(0.5, 1.0, 'Nivel')"
      ]
     },
     "execution_count": 69,
     "metadata": {},
     "output_type": "execute_result"
    },
    {
     "data": {
      "image/png": "[encoded data removed]",
      "text/plain": [
       "<Figure size 640x480 with 1 Axes>"
      ]
     },
     "metadata": {},
     "output_type": "display_data"
    }
   ],
   "source": [
    "srn.histplot(df['nivel']).set_title('Nivel')"
   ]
  },
  {
   "cell_type": "code",
   "execution_count": 72,
   "id": "40544df3-64d1-4a82-92bc-546502d6ee01",
   "metadata": {},
   "outputs": [
    {
     "data": {
      "text/plain": [
       "count    997.000000\n",
       "mean      56.822467\n",
       "std       25.249907\n",
       "min       12.000000\n",
       "25%       35.000000\n",
       "50%       59.000000\n",
       "75%       78.000000\n",
       "max      133.000000\n",
       "Name: idade, dtype: float64"
      ]
     },
     "execution_count": 72,
     "metadata": {},
     "output_type": "execute_result"
    }
   ],
   "source": [
    "df['idade'].describe()"
   ]
  },
  {
   "cell_type": "code",
   "execution_count": 75,
   "id": "6aa98966-0fa7-4e59-9c06-6a883533b448",
   "metadata": {},
   "outputs": [
    {
     "data": {
      "text/plain": [
       "Text(0.5, 1.0, 'Idade')"
      ]
     },
     "execution_count": 75,
     "metadata": {},
     "output_type": "execute_result"
    },
    {
     "data": {
      "image/png": "[encoded data removed]",
      "text/plain": [
       "<Figure size 640x480 with 1 Axes>"
      ]
     },
     "metadata": {},
     "output_type": "display_data"
    }
   ],
   "source": [
    "srn.boxplot(df['idade']).set_title('Idade')"
   ]
  },
  {
   "cell_type": "code",
   "execution_count": 78,
   "id": "ab66ceda-6fa2-4ff3-8c25-734af77dcda9",
   "metadata": {},
   "outputs": [
    {
     "data": {
      "text/plain": [
       "id           0\n",
       "score        2\n",
       "nivel        2\n",
       "categoria    3\n",
       "idade        3\n",
       "pais         2\n",
       "dtype: int64"
      ]
     },
     "execution_count": 78,
     "metadata": {},
     "output_type": "execute_result"
    }
   ],
   "source": [
    "df.isnull().sum()"
   ]
  },
  {
   "cell_type": "code",
   "execution_count": 81,
   "id": "a4f15f5c-15be-41e5-aa27-cf2a8d15ed8a",
   "metadata": {},
   "outputs": [
    {
     "data": {
      "text/plain": [
       "Text(0.5, 1.0, 'idade')"
      ]
     },
     "execution_count": 81,
     "metadata": {},
     "output_type": "execute_result"
    },
    {
     "data": {
      "image/png": "[encoded data removed]",
      "text/plain": [
       "<Figure size 640x480 with 1 Axes>"
      ]
     },
     "metadata": {},
     "output_type": "display_data"
    }
   ],
   "source": [
    "srn.histplot(df['idade']).set_title('idade')"
   ]
  },
  {
   "cell_type": "code",
   "execution_count": 161,
   "id": "a62f05f6-f6ba-4502-ae8e-f1aee2ea64f8",
   "metadata": {},
   "outputs": [],
   "source": []
  },
  {
   "cell_type": "code",
   "execution_count": 108,
   "id": "3e84645f-3bda-4075-9b78-344fc0843e44",
   "metadata": {},
   "outputs": [],
   "source": []
  },
  {
   "cell_type": "code",
   "execution_count": 110,
   "id": "af016d8e-781b-4e6f-b9e5-f7086529da22",
   "metadata": {},
   "outputs": [],
   "source": []
  },
  {
   "cell_type": "code",
   "execution_count": 112,
   "id": "d9e410a6-b04d-4c2a-95e5-a56b3e3ec432",
   "metadata": {},
   "outputs": [],
   "source": []
  },
  {
   "cell_type": "code",
   "execution_count": 159,
   "id": "93202798-65c6-43ca-ba47-e03b57079545",
   "metadata": {},
   "outputs": [],
   "source": []
  },
  {
   "cell_type": "code",
   "execution_count": 124,
   "id": "d2558b22-8ab1-48eb-aa68-78b88163911a",
   "metadata": {},
   "outputs": [
    {
     "data": {
      "text/plain": [
       "2"
      ]
     },
     "execution_count": 124,
     "metadata": {},
     "output_type": "execute_result"
    }
   ],
   "source": [
    "df['score'].isnull().sum()"
   ]
  },
  {
   "cell_type": "code",
   "execution_count": 127,
   "id": "65d4edc7-92a6-4bf4-9183-babe6b3e09c2",
   "metadata": {},
   "outputs": [],
   "source": [
    "df.fillna({'score': 50.000}, inplace = True)"
   ]
  },
  {
   "cell_type": "code",
   "execution_count": 130,
   "id": "c0d43c0a-0180-4088-a74b-d959524837f3",
   "metadata": {},
   "outputs": [
    {
     "data": {
      "text/plain": [
       "0"
      ]
     },
     "execution_count": 130,
     "metadata": {},
     "output_type": "execute_result"
    }
   ],
   "source": [
    "df['score'].isnull().sum()"
   ]
  },
  {
   "cell_type": "code",
   "execution_count": 133,
   "id": "1cc70de8-f188-4c2b-9b2c-2d7b6d129b96",
   "metadata": {},
   "outputs": [],
   "source": [
    "df.fillna({'nivel':  1000.000000}, inplace = True)"
   ]
  },
  {
   "cell_type": "code",
   "execution_count": 136,
   "id": "404f12b8-c008-4540-9433-556b92b978cd",
   "metadata": {},
   "outputs": [
    {
     "data": {
      "text/plain": [
       "0"
      ]
     },
     "execution_count": 136,
     "metadata": {},
     "output_type": "execute_result"
    }
   ],
   "source": [
    "df['nivel'].isnull().sum()"
   ]
  },
  {
   "cell_type": "code",
   "execution_count": 139,
   "id": "2a0de5b2-e66a-4b3c-9bc6-72c8738e9235",
   "metadata": {},
   "outputs": [],
   "source": [
    "df.fillna({'categoria':  'mago novo'}, inplace = True)"
   ]
  },
  {
   "cell_type": "code",
   "execution_count": 142,
   "id": "115ebf75-9a39-4c6b-88f1-cb6ac8ff999f",
   "metadata": {},
   "outputs": [
    {
     "data": {
      "text/plain": [
       "0"
      ]
     },
     "execution_count": 142,
     "metadata": {},
     "output_type": "execute_result"
    }
   ],
   "source": [
    "df['categoria'].isnull().sum()"
   ]
  },
  {
   "cell_type": "code",
   "execution_count": 145,
   "id": "b6a15b2c-823d-4436-8ff1-40dd2050e163",
   "metadata": {},
   "outputs": [],
   "source": [
    "df.fillna({'idade': 20.00000}, inplace = True)"
   ]
  },
  {
   "cell_type": "code",
   "execution_count": 148,
   "id": "241475dd-4205-4070-a87d-583769ffba08",
   "metadata": {},
   "outputs": [
    {
     "data": {
      "text/plain": [
       "0"
      ]
     },
     "execution_count": 148,
     "metadata": {},
     "output_type": "execute_result"
    }
   ],
   "source": [
    "df['idade'].isnull().sum()"
   ]
  },
  {
   "cell_type": "code",
   "execution_count": 153,
   "id": "bd9ef640-1c3c-41d8-86e4-d176e04eef78",
   "metadata": {},
   "outputs": [
    {
     "data": {
      "text/plain": [
       "pais\n",
       "%apan               1\n",
       "Australia           7\n",
       "Brazil            279\n",
       "C#nada              1\n",
       "Canada             93\n",
       "Italy              10\n",
       "Japan             130\n",
       "Mexico             74\n",
       "Portuga&            1\n",
       "Portugal          222\n",
       "Spain              14\n",
       "United Kingdom     16\n",
       "United States     150\n",
       "dtype: int64"
      ]
     },
     "execution_count": 153,
     "metadata": {},
     "output_type": "execute_result"
    }
   ],
   "source": [
    "df_pais"
   ]
  },
  {
   "cell_type": "code",
   "execution_count": 155,
   "id": "110d46c3-fdb9-43fe-91df-22afea556430",
   "metadata": {},
   "outputs": [],
   "source": [
    "df.loc[df['pais'] == '%apan', 'pais'] = 'Japan'"
   ]
  },
  {
   "cell_type": "code",
   "execution_count": null,
   "id": "4b069c15-cbb4-456d-ae85-60c086097cf4",
   "metadata": {},
   "outputs": [],
   "source": [
    "df.loc[df['pais'] == 'C#nada', 'pais'] = 'Canada'"
   ]
  },
  {
   "cell_type": "code",
   "execution_count": null,
   "id": "38bef489-a6c7-46e8-8668-be615ea3eba2",
   "metadata": {},
   "outputs": [],
   "source": [
    "df.loc[df['pais'] == 'Portuga&', 'pais'] = 'Portugal'"
   ]
  },
  {
   "cell_type": "code",
   "execution_count": 157,
   "id": "d89a3b63-0b15-41dd-8dfb-885a17b722a8",
   "metadata": {},
   "outputs": [
    {
     "data": {
      "text/plain": [
       "pais\n",
       "Australia           7\n",
       "Brazil            279\n",
       "Canada             94\n",
       "Italy              10\n",
       "Japan             131\n",
       "Mexico             74\n",
       "Portugal          223\n",
       "Spain              14\n",
       "United Kingdom     16\n",
       "United States     150\n",
       "dtype: int64"
      ]
     },
     "execution_count": 157,
     "metadata": {},
     "output_type": "execute_result"
    }
   ],
   "source": [
    "df.groupby(['pais']).size()"
   ]
  },
  {
   "cell_type": "code",
   "execution_count": 167,
   "id": "ac20fac6-8b34-4408-897c-4a3c3bd21480",
   "metadata": {},
   "outputs": [
    {
     "name": "stdout",
     "output_type": "stream",
     "text": [
      "495837.0\n"
     ]
    }
   ],
   "source": [
    "df['score'] = pd.to_numeric(df['score'], errors='coerce')\n",
    "df = df.dropna(subset=['score'])\n",
    "mediana_score = sts.median(df['score'])\n",
    "print(mediana_score)\n"
   ]
  },
  {
   "cell_type": "code",
   "execution_count": 169,
   "id": "8c492551-01b5-47d6-9169-b5fcd8db6295",
   "metadata": {},
   "outputs": [
    {
     "data": {
      "text/plain": [
       "283879.7442525603"
      ]
     },
     "execution_count": 169,
     "metadata": {},
     "output_type": "execute_result"
    }
   ],
   "source": [
    "dp = sts.stdev(df['score'])\n",
    "dp"
   ]
  },
  {
   "cell_type": "code",
   "execution_count": 171,
   "id": "a6512107-7187-49c1-9891-4ea813632456",
   "metadata": {},
   "outputs": [
    {
     "data": {
      "text/html": [
       "<div>\n",
       "<style scoped>\n",
       "    .dataframe tbody tr th:only-of-type {\n",
       "        vertical-align: middle;\n",
       "    }\n",
       "\n",
       "    .dataframe tbody tr th {\n",
       "        vertical-align: top;\n",
       "    }\n",
       "\n",
       "    .dataframe thead th {\n",
       "        text-align: right;\n",
       "    }\n",
       "</style>\n",
       "<table border=\"1\" class=\"dataframe\">\n",
       "  <thead>\n",
       "    <tr style=\"text-align: right;\">\n",
       "      <th></th>\n",
       "      <th>id</th>\n",
       "      <th>score</th>\n",
       "      <th>nivel</th>\n",
       "      <th>categoria</th>\n",
       "      <th>idade</th>\n",
       "      <th>pais</th>\n",
       "    </tr>\n",
       "  </thead>\n",
       "  <tbody>\n",
       "  </tbody>\n",
       "</table>\n",
       "</div>"
      ],
      "text/plain": [
       "Empty DataFrame\n",
       "Columns: [id, score, nivel, categoria, idade, pais]\n",
       "Index: []"
      ]
     },
     "execution_count": 171,
     "metadata": {},
     "output_type": "execute_result"
    }
   ],
   "source": [
    "df.loc[df['score'] >= mediana_score + 2 * dp]"
   ]
  },
  {
   "cell_type": "code",
   "execution_count": 173,
   "id": "b2bafd9a-453a-4eb0-938c-91dc417f94b4",
   "metadata": {},
   "outputs": [],
   "source": [
    "df.loc[(df['score'] >= mediana_score + 2 * dp), 'score'] = mediana_score"
   ]
  },
  {
   "cell_type": "code",
   "execution_count": 175,
   "id": "7ec02a09-fe0c-41d1-863c-861e93bfc9a7",
   "metadata": {},
   "outputs": [
    {
     "data": {
      "text/html": [
       "<div>\n",
       "<style scoped>\n",
       "    .dataframe tbody tr th:only-of-type {\n",
       "        vertical-align: middle;\n",
       "    }\n",
       "\n",
       "    .dataframe tbody tr th {\n",
       "        vertical-align: top;\n",
       "    }\n",
       "\n",
       "    .dataframe thead th {\n",
       "        text-align: right;\n",
       "    }\n",
       "</style>\n",
       "<table border=\"1\" class=\"dataframe\">\n",
       "  <thead>\n",
       "    <tr style=\"text-align: right;\">\n",
       "      <th></th>\n",
       "      <th>id</th>\n",
       "      <th>score</th>\n",
       "      <th>nivel</th>\n",
       "      <th>categoria</th>\n",
       "      <th>idade</th>\n",
       "      <th>pais</th>\n",
       "    </tr>\n",
       "  </thead>\n",
       "  <tbody>\n",
       "  </tbody>\n",
       "</table>\n",
       "</div>"
      ],
      "text/plain": [
       "Empty DataFrame\n",
       "Columns: [id, score, nivel, categoria, idade, pais]\n",
       "Index: []"
      ]
     },
     "execution_count": 175,
     "metadata": {},
     "output_type": "execute_result"
    }
   ],
   "source": [
    "df.loc[df['score'] >= mediana_score + 2 * dp]"
   ]
  },
  {
   "cell_type": "code",
   "execution_count": 177,
   "id": "d56f9a7f-4ac3-43b1-9b99-5701e04059db",
   "metadata": {},
   "outputs": [
    {
     "data": {
      "text/plain": [
       "495.0"
      ]
     },
     "execution_count": 177,
     "metadata": {},
     "output_type": "execute_result"
    }
   ],
   "source": [
    "mediana_nivel = sts.median(df['nivel'])\n",
    "mediana_nivel"
   ]
  },
  {
   "cell_type": "code",
   "execution_count": 179,
   "id": "9b4195f1-baae-4fc8-8b2c-69d4b6306b01",
   "metadata": {},
   "outputs": [
    {
     "data": {
      "text/plain": [
       "289.35356926512713"
      ]
     },
     "execution_count": 179,
     "metadata": {},
     "output_type": "execute_result"
    }
   ],
   "source": [
    "dp = sts.stdev(df['nivel'])\n",
    "dp"
   ]
  },
  {
   "cell_type": "code",
   "execution_count": 181,
   "id": "fc64144d-13a7-45f6-9cb0-aa140705fd05",
   "metadata": {},
   "outputs": [
    {
     "data": {
      "text/html": [
       "<div>\n",
       "<style scoped>\n",
       "    .dataframe tbody tr th:only-of-type {\n",
       "        vertical-align: middle;\n",
       "    }\n",
       "\n",
       "    .dataframe tbody tr th {\n",
       "        vertical-align: top;\n",
       "    }\n",
       "\n",
       "    .dataframe thead th {\n",
       "        text-align: right;\n",
       "    }\n",
       "</style>\n",
       "<table border=\"1\" class=\"dataframe\">\n",
       "  <thead>\n",
       "    <tr style=\"text-align: right;\">\n",
       "      <th></th>\n",
       "      <th>id</th>\n",
       "      <th>score</th>\n",
       "      <th>nivel</th>\n",
       "      <th>categoria</th>\n",
       "      <th>idade</th>\n",
       "      <th>pais</th>\n",
       "    </tr>\n",
       "  </thead>\n",
       "  <tbody>\n",
       "  </tbody>\n",
       "</table>\n",
       "</div>"
      ],
      "text/plain": [
       "Empty DataFrame\n",
       "Columns: [id, score, nivel, categoria, idade, pais]\n",
       "Index: []"
      ]
     },
     "execution_count": 181,
     "metadata": {},
     "output_type": "execute_result"
    }
   ],
   "source": [
    "df.loc[df['nivel'] >= mediana_nivel + 2 * dp]"
   ]
  },
  {
   "cell_type": "code",
   "execution_count": 183,
   "id": "18373c31-5640-44ec-8bdd-a56f7c6666a7",
   "metadata": {},
   "outputs": [],
   "source": [
    "df.loc[(df['nivel'] >= mediana_nivel + 2 * dp), 'nivel'] = mediana_nivel"
   ]
  },
  {
   "cell_type": "code",
   "execution_count": 185,
   "id": "a2a65492-9333-470d-809e-20aae6c9d0e4",
   "metadata": {},
   "outputs": [
    {
     "data": {
      "text/html": [
       "<div>\n",
       "<style scoped>\n",
       "    .dataframe tbody tr th:only-of-type {\n",
       "        vertical-align: middle;\n",
       "    }\n",
       "\n",
       "    .dataframe tbody tr th {\n",
       "        vertical-align: top;\n",
       "    }\n",
       "\n",
       "    .dataframe thead th {\n",
       "        text-align: right;\n",
       "    }\n",
       "</style>\n",
       "<table border=\"1\" class=\"dataframe\">\n",
       "  <thead>\n",
       "    <tr style=\"text-align: right;\">\n",
       "      <th></th>\n",
       "      <th>id</th>\n",
       "      <th>score</th>\n",
       "      <th>nivel</th>\n",
       "      <th>categoria</th>\n",
       "      <th>idade</th>\n",
       "      <th>pais</th>\n",
       "    </tr>\n",
       "  </thead>\n",
       "  <tbody>\n",
       "  </tbody>\n",
       "</table>\n",
       "</div>"
      ],
      "text/plain": [
       "Empty DataFrame\n",
       "Columns: [id, score, nivel, categoria, idade, pais]\n",
       "Index: []"
      ]
     },
     "execution_count": 185,
     "metadata": {},
     "output_type": "execute_result"
    }
   ],
   "source": [
    "df.loc[df['nivel'] >= mediana_nivel + 2 * dp]"
   ]
  },
  {
   "cell_type": "code",
   "execution_count": 187,
   "id": "0b446873-32f4-46ef-94be-a0989cc1662e",
   "metadata": {},
   "outputs": [
    {
     "data": {
      "text/plain": [
       "59.0"
      ]
     },
     "execution_count": 187,
     "metadata": {},
     "output_type": "execute_result"
    }
   ],
   "source": [
    "mediana_idade = sts.median(df['idade'])\n",
    "mediana_idade"
   ]
  },
  {
   "cell_type": "code",
   "execution_count": 189,
   "id": "d5da9a8d-c472-4b67-acf6-5a03141ed92c",
   "metadata": {},
   "outputs": [
    {
     "data": {
      "text/plain": [
       "25.312996375878743"
      ]
     },
     "execution_count": 189,
     "metadata": {},
     "output_type": "execute_result"
    }
   ],
   "source": [
    "dp = sts.stdev(df['idade'])\n",
    "dp"
   ]
  },
  {
   "cell_type": "code",
   "execution_count": 191,
   "id": "a5035b43-9f2b-4a4b-a8e3-c2c8be74f0ce",
   "metadata": {},
   "outputs": [
    {
     "data": {
      "text/html": [
       "<div>\n",
       "<style scoped>\n",
       "    .dataframe tbody tr th:only-of-type {\n",
       "        vertical-align: middle;\n",
       "    }\n",
       "\n",
       "    .dataframe tbody tr th {\n",
       "        vertical-align: top;\n",
       "    }\n",
       "\n",
       "    .dataframe thead th {\n",
       "        text-align: right;\n",
       "    }\n",
       "</style>\n",
       "<table border=\"1\" class=\"dataframe\">\n",
       "  <thead>\n",
       "    <tr style=\"text-align: right;\">\n",
       "      <th></th>\n",
       "      <th>id</th>\n",
       "      <th>score</th>\n",
       "      <th>nivel</th>\n",
       "      <th>categoria</th>\n",
       "      <th>idade</th>\n",
       "      <th>pais</th>\n",
       "    </tr>\n",
       "  </thead>\n",
       "  <tbody>\n",
       "    <tr>\n",
       "      <th>12</th>\n",
       "      <td>13</td>\n",
       "      <td>574085.0</td>\n",
       "      <td>787.0</td>\n",
       "      <td>mago</td>\n",
       "      <td>133.0</td>\n",
       "      <td>Canada</td>\n",
       "    </tr>\n",
       "    <tr>\n",
       "      <th>448</th>\n",
       "      <td>449</td>\n",
       "      <td>890953.0</td>\n",
       "      <td>47.0</td>\n",
       "      <td>elfo</td>\n",
       "      <td>125.0</td>\n",
       "      <td>Canada</td>\n",
       "    </tr>\n",
       "  </tbody>\n",
       "</table>\n",
       "</div>"
      ],
      "text/plain": [
       "      id     score  nivel categoria  idade    pais\n",
       "12    13  574085.0  787.0      mago  133.0  Canada\n",
       "448  449  890953.0   47.0      elfo  125.0  Canada"
      ]
     },
     "execution_count": 191,
     "metadata": {},
     "output_type": "execute_result"
    }
   ],
   "source": [
    "df.loc[df['idade'] >= mediana_idade + 2 * dp]"
   ]
  },
  {
   "cell_type": "code",
   "execution_count": 193,
   "id": "8f26b586-8669-4981-883f-1e708c1456b9",
   "metadata": {},
   "outputs": [],
   "source": [
    "df.loc[(df['idade'] >= mediana_idade + 2 * dp), 'idade'] = mediana_idade"
   ]
  },
  {
   "cell_type": "code",
   "execution_count": 195,
   "id": "d16e3bba-4ecf-4502-b3f9-224f6a5082b6",
   "metadata": {},
   "outputs": [
    {
     "data": {
      "text/html": [
       "<div>\n",
       "<style scoped>\n",
       "    .dataframe tbody tr th:only-of-type {\n",
       "        vertical-align: middle;\n",
       "    }\n",
       "\n",
       "    .dataframe tbody tr th {\n",
       "        vertical-align: top;\n",
       "    }\n",
       "\n",
       "    .dataframe thead th {\n",
       "        text-align: right;\n",
       "    }\n",
       "</style>\n",
       "<table border=\"1\" class=\"dataframe\">\n",
       "  <thead>\n",
       "    <tr style=\"text-align: right;\">\n",
       "      <th></th>\n",
       "      <th>id</th>\n",
       "      <th>score</th>\n",
       "      <th>nivel</th>\n",
       "      <th>categoria</th>\n",
       "      <th>idade</th>\n",
       "      <th>pais</th>\n",
       "    </tr>\n",
       "  </thead>\n",
       "  <tbody>\n",
       "  </tbody>\n",
       "</table>\n",
       "</div>"
      ],
      "text/plain": [
       "Empty DataFrame\n",
       "Columns: [id, score, nivel, categoria, idade, pais]\n",
       "Index: []"
      ]
     },
     "execution_count": 195,
     "metadata": {},
     "output_type": "execute_result"
    }
   ],
   "source": [
    "df.loc[df['idade'] >= mediana_idade + 2 * dp]"
   ]
  },
  {
   "cell_type": "code",
   "execution_count": null,
   "id": "10e6225c-2314-4557-9fdd-445260bcb641",
   "metadata": {},
   "outputs": [],
   "source": []
  }
 ],
 "metadata": {
  "kernelspec": {
   "display_name": "Python [conda env:base] *",
   "language": "python",
   "name": "conda-base-py"
  },
  "language_info": {
   "codemirror_mode": {
    "name": "ipython",
    "version": 3
   },
   "file_extension": ".py",
   "mimetype": "text/x-python",
   "name": "python",
   "nbconvert_exporter": "python",
   "pygments_lexer": "ipython3",
   "version": "3.12.7"
  }
 },
 "nbformat": 4,
 "nbformat_minor": 5
}
